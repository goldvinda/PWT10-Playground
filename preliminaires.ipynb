{
 "cells": [
  {
   "attachments": {},
   "cell_type": "markdown",
   "metadata": {},
   "source": [
    "Lets do some work here..."
   ]
  },
  {
   "cell_type": "code",
   "execution_count": null,
   "metadata": {},
   "outputs": [],
   "source": [
    "import pandas as pd\n",
    "pwt = pd.read_excel('pwt1001.xlsx', sheet_name=\"Data\")\n",
    "pwt_subset = pwt[['country','countrycode','year','cgdpo','pop','emp','hc','cn','labsh','ctfp']]\n",
    "pwt_subset = pwt_subset[pwt_subset['year'] > 2009].set_index('countrycode').dropna()\n"
   ]
  },
  {
   "attachments": {},
   "cell_type": "markdown",
   "metadata": {},
   "source": [
    "Descriptive Statistics for the Variables in our Dataset for 2019"
   ]
  },
  {
   "cell_type": "code",
   "execution_count": 5,
   "metadata": {},
   "outputs": [
    {
     "name": "stdout",
     "output_type": "stream",
     "text": [
      "         year        cgdpo      pop     emp      hc           cn   labsh  \\\n",
      "count   118.0       118.00   118.00  118.00  118.00       118.00  118.00   \n",
      "mean   2019.0   1000698.85    54.32   24.23    2.83   4336116.41    0.51   \n",
      "std       0.0   2836363.16   184.87   87.88    0.69  12057736.11    0.12   \n",
      "min    2019.0      3577.58     0.29    0.13    1.22     15617.32    0.16   \n",
      "5%     2019.0     11883.35     0.89    0.38    1.60     29239.86    0.29   \n",
      "10%    2019.0     22909.33     1.83    0.67    1.77     75212.04    0.33   \n",
      "25%    2019.0     43331.93     4.75    2.26    2.37    191174.71    0.44   \n",
      "50%    2019.0    193587.16    11.13    5.00    2.90    650342.56    0.53   \n",
      "75%    2019.0    690796.17    37.18   15.90    3.34   2771635.62    0.58   \n",
      "90%    2019.0   2289714.22    83.46   34.35    3.63  10845273.50    0.64   \n",
      "95%    2019.0   3272437.16   154.14   71.87    3.73  17725702.40    0.66   \n",
      "max    2019.0  20566034.00  1433.78  798.81    4.35  99462136.00    0.81   \n",
      "\n",
      "         ctfp  \n",
      "count  118.00  \n",
      "mean     0.65  \n",
      "std      0.24  \n",
      "min      0.05  \n",
      "5%       0.27  \n",
      "10%      0.35  \n",
      "25%      0.45  \n",
      "50%      0.65  \n",
      "75%      0.82  \n",
      "90%      0.93  \n",
      "95%      1.01  \n",
      "max      1.28  \n"
     ]
    }
   ],
   "source": [
    "\n",
    "print(pwt_subset[pwt_subset['year'] == 2019].describe([0.05,0.10,0.25,0.50,0.75,0.90,0.95]).round(2))"
   ]
  }
 ],
 "metadata": {
  "kernelspec": {
   "display_name": "base",
   "language": "python",
   "name": "python3"
  },
  "language_info": {
   "codemirror_mode": {
    "name": "ipython",
    "version": 3
   },
   "file_extension": ".py",
   "mimetype": "text/x-python",
   "name": "python",
   "nbconvert_exporter": "python",
   "pygments_lexer": "ipython3",
   "version": "3.9.13"
  },
  "orig_nbformat": 4,
  "vscode": {
   "interpreter": {
    "hash": "19c52f9406ed8ee88add4472b642b79c35ade567538d579e8a14fbefe9c2ac9c"
   }
  }
 },
 "nbformat": 4,
 "nbformat_minor": 2
}
